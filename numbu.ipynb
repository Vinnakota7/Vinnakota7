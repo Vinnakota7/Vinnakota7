{
  "nbformat": 4,
  "nbformat_minor": 0,
  "metadata": {
    "colab": {
      "provenance": [],
      "authorship_tag": "ABX9TyMcCgrX8xuB5DQxZ5ODiGTA",
      "include_colab_link": true
    },
    "kernelspec": {
      "name": "python3",
      "display_name": "Python 3"
    },
    "language_info": {
      "name": "python"
    }
  },
  "cells": [
    {
      "cell_type": "markdown",
      "metadata": {
        "id": "view-in-github",
        "colab_type": "text"
      },
      "source": [
        "<a href=\"https://colab.research.google.com/github/Vinnakota7/Vinnakota7/blob/main/numbu.ipynb\" target=\"_parent\"><img src=\"https://colab.research.google.com/assets/colab-badge.svg\" alt=\"Open In Colab\"/></a>"
      ]
    },
    {
      "cell_type": "code",
      "execution_count": 9,
      "metadata": {
        "colab": {
          "base_uri": "https://localhost:8080/"
        },
        "id": "-a60vMMxtUxD",
        "outputId": "04c72578-028e-476c-8a09-1bbd6cffb935"
      },
      "outputs": [
        {
          "output_type": "stream",
          "name": "stdout",
          "text": [
            "enter the integer5\n",
            "5 :The number is positive\n"
          ]
        }
      ],
      "source": [
        "no=int(input(\"enter the integer\"))\n",
        "if no<0:\n",
        "  print(no,\":The number is negative.\")\n",
        "elif no==0:\n",
        "  print(no,\":The number is zero.\")\n",
        "else :\n",
        "  print(no,\":The number is positive\")"
      ]
    }
  ]
}